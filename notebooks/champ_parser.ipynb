{
 "cells": [
  {
   "cell_type": "code",
   "execution_count": 1,
   "id": "5a689c33",
   "metadata": {},
   "outputs": [],
   "source": [
    "from selenium import webdriver\n",
    "from selenium.webdriver.common.keys import Keys\n",
    "from selenium.webdriver.common.by import By\n",
    "from selenium.webdriver.chrome.service import Service\n",
    "from selenium.webdriver.support.ui import WebDriverWait\n",
    "from selenium.webdriver.support import expected_conditions as EC\n",
    "from selenium.common.exceptions import TimeoutException, NoSuchElementException\n",
    "import sqlite3\n",
    "import json\n",
    "import os\n",
    "import yaml\n",
    "import time\n",
    "from urllib.parse import urlparse, urljoin # Добавляем импорт urlparse"
   ]
  },
  {
   "cell_type": "code",
   "execution_count": 2,
   "id": "4ba864e2",
   "metadata": {},
   "outputs": [],
   "source": [
    "# Настройка опций Chrome для обхода SSL и скрытия Selenium\n",
    "chrome_options = webdriver.ChromeOptions()\n",
    "chrome_options.add_argument(\"--headless\")\n",
    "chrome_options.add_argument(\"--no-sandbox\")\n",
    "chrome_options.add_argument(\"--disable-dev-shm-usage\")\n",
    "chrome_options.add_argument(f\"user-agent=Mozilla/5.0 (Windows NT 10.0; Win64; x64) AppleWebKit/537.36 (KHTML, like Gecko) Chrome/126.0.0.0 Safari/537.36\")\n",
    "chrome_options.add_argument(\"--ignore-certificate-errors\")\n",
    "chrome_options.add_argument(\"--allow-insecure-localhost\")\n",
    "chrome_options.add_argument(\"--disable-blink-features=AutomationControlled\")\n",
    "chrome_options.add_experimental_option(\"excludeSwitches\", [\"enable-automation\"])\n",
    "chrome_options.add_experimental_option('useAutomationExtension', False)"
   ]
  },
  {
   "cell_type": "code",
   "execution_count": 3,
   "id": "f12f97d3",
   "metadata": {},
   "outputs": [],
   "source": [
    "driver = webdriver.Chrome()\n",
    "wait = WebDriverWait(driver, 5)"
   ]
  },
  {
   "cell_type": "code",
   "execution_count": 4,
   "id": "d8a365ce",
   "metadata": {},
   "outputs": [],
   "source": [
    "# url = \"https://www.championat.com/news/1.html?utm_source=button&utm_medium=news\""
   ]
  },
  {
   "cell_type": "code",
   "execution_count": 5,
   "id": "ccd254db",
   "metadata": {},
   "outputs": [],
   "source": [
    "page = 1\n",
    "url = f\"https://www.championat.com/news/{page}.html?utm_source=button&utm_medium=news\"\n",
    "driver.get(url)"
   ]
  },
  {
   "cell_type": "code",
   "execution_count": 6,
   "id": "dc0c1603",
   "metadata": {},
   "outputs": [],
   "source": [
    "bloks = driver.find_element(By.CLASS_NAME, \"page-content\")"
   ]
  },
  {
   "cell_type": "code",
   "execution_count": 7,
   "id": "d1ab9222",
   "metadata": {},
   "outputs": [],
   "source": [
    "date = bloks.find_element(By.CLASS_NAME, \"news-items__head\").text"
   ]
  },
  {
   "cell_type": "code",
   "execution_count": 8,
   "id": "f1765f76",
   "metadata": {},
   "outputs": [],
   "source": [
    "posts = bloks.find_elements(By.CLASS_NAME, \"news-item\")"
   ]
  },
  {
   "cell_type": "code",
   "execution_count": 9,
   "id": "3168c4f9",
   "metadata": {},
   "outputs": [
    {
     "name": "stdout",
     "output_type": "stream",
     "text": [
      "1 СЕНТЯБРЯ 2025 05:06 https://www.championat.com/football/news-6146714-sietl-saunders-inter-majami-rezultat-matcha-1-sentyabrya-2025-schyot-3-0-kubok-lig-final-lionel-messi-suares-alba-buskets.html «Сиэтл» разгромил «Интер Майами» с Месси и впервые в истории стал чемпионом Кубка лиг\n",
      "1 СЕНТЯБРЯ 2025 05:02 https://www.championat.com/basketball/news-6146712-argentina-braziliya-rezultat-matcha-1-sentyabrya-2025-schyot-47-55-final-kubka-ameriki-2025.html Сборная Бразилии обыграла Аргентину в финале Кубка Америки по баскетболу\n",
      "1 СЕНТЯБРЯ 2025 05:00 https://www.championat.com/football/news-6146698-ne-opravdyvayu-ego-no-eto-ne-kartochka-radimov-ob-udalenii-kordoby-v-igre-s-cska.html «Не оправдываю его… Но это не карточка». Радимов — об удалении Кордобы в игре с ЦСКА\n",
      "1 СЕНТЯБРЯ 2025 04:58 https://www.championat.com/football/news-6146706-nedovolen-svoej-komandoj-flik-ob-igre-barselony-v-matche-s-rajo-valekano.html «Недоволен своей командой». Флик — об игре «Барселоны» в матче с «Райо Вальекано»\n",
      "1 СЕНТЯБРЯ 2025 04:54 https://www.championat.com/football/news-6146710-dzhiku-otklonil-predlozhenie-spartaka-iz-za-nezhelaniya-ego-zheny-ehat-v-rossiyu-istochnik.html Джику отклонил предложение «Спартака» из-за нежелания жены ехать в Россию – источник\n",
      "1 СЕНТЯБРЯ 2025 04:50 https://www.championat.com/tennis/news-6146704-arina-sobolenko-ostanetsya-pervoj-raketkoj-mira-po-itogam-us-open.html Арина Соболенко останется первой ракеткой мира по итогам US Open\n",
      "1 СЕНТЯБРЯ 2025 04:43 https://www.championat.com/tennis/news-6146700-dzhokovich-pervyj-tennisist-v-istorii-vyshedshij-v-1-4-finala-na-vseh-tbsh-v-9-sezonah.html Джокович — первый теннисист в истории, вышедший в 1/4 финала на всех ТБШ в 9 сезонах\n",
      "1 СЕНТЯБРЯ 2025 04:33 https://www.championat.com/tennis/news-6146702-novak-dzhokovich-ustanovil-istoricheskoe-dostizhenie-na-tbsh.html Новак Джокович установил историческое достижение на ТБШ\n",
      "1 СЕНТЯБРЯ 2025 04:30 https://www.championat.com/tennis/news-6146696-arina-sobolenko-vyshla-v-1-4-finala-us-open-gde-mozhet-vstretitsya-s-rybakinoj.html Арина Соболенко вышла в 1/4 финала US Open, где может встретиться с Рыбакиной\n",
      "1 СЕНТЯБРЯ 2025 04:13 https://www.championat.com/football/news-6146694-chempionat-francii-2025-2026-po-futbolu-rezultaty-matchej-3-go-tura-i-turnirnaya-tablica.html Чемпионат Франции — 2025/2026 по футболу: результаты матчей 3-го тура и турнирная таблица\n",
      "1 СЕНТЯБРЯ 2025 04:08 https://www.championat.com/tennis/news-6146688-novak-dzhokovich-yan-lennard-shtruff-rezultat-matcha-1-sentyabrya-2025-goda-schyot-3-0-us-open.html Новак Джокович уверенно вышел в 1/4 финала US Open, где встретится с Тейлором Фрицем\n",
      "1 СЕНТЯБРЯ 2025 03:58 https://www.championat.com/football/news-6146686-vy-tak-dazhe-za-trojku-ne-budete-borotsya-radimov-nazval-glavnuyu-problemu-lokomotiva.html «Вы так даже за тройку не будете бороться». Радимов назвал главную проблему «Локомотива»\n",
      "1 СЕНТЯБРЯ 2025 03:57 https://www.championat.com/football/news-6146682-etot-pazl-ne-skladyvaetsya-radimov-nazval-odnu-iz-osnovnyh-problem-v-rpl.html «Этот пазл не складывается». Радимов назвал одну из основных проблем в РПЛ\n",
      "1 СЕНТЯБРЯ 2025 03:55 https://www.championat.com/basketball/news-6146684-eto-neizbezhno-klej-tompson-raskryl-chto-proishodilo-v-golden-stejt-za-kulisami.html «Это неизбежно». Клэй Томпсон раскрыл, что происходило в «Голден Стэйт» за кулисами\n",
      "1 СЕНТЯБРЯ 2025 03:46 https://www.championat.com/tennis/news-6146680-arina-sobolenko-kristina-buksha-beloruska-razgromila-ispanku-v-pervom-sete.html Арина Соболенко — Кристина Букша: белоруска разгромила испанку в первом сете\n",
      "1 СЕНТЯБРЯ 2025 03:41 https://www.championat.com/football/news-6146678-chempionat-italii-2025-2026-po-futbolu-rezultaty-matchej-2-go-tura-i-turnirnaya-tablica.html Чемпионат Италии— 2025/2026 по футболу: результаты матчей 2-го тура и турнирная таблица\n",
      "1 СЕНТЯБРЯ 2025 03:34 https://www.championat.com/tennis/news-6146676-novak-dzhokovich-yan-lennard-shtruff-serb-udvoil-preimuschestvo-v-matche.html Новак Джокович — Ян-Леннард Штруфф: серб удвоил преимущество в матче\n",
      "1 СЕНТЯБРЯ 2025 03:30 https://www.championat.com/basketball/news-6146674-majkl-porter-nazval-igroka-kotoryj-prevoshodit-ego-v-umenii-brosat.html Майкл Портер назвал игрока, который превосходит его в умении бросать\n",
      "1 СЕНТЯБРЯ 2025 03:28 https://www.championat.com/football/news-6146672-yamal-samyj-molodoj-igrok-xxi-veka-v-la-lige-zabivshij-penalti.html Ямаль — самый молодой игрок XXI века в Ла Лиге, забивший пенальти\n",
      "1 СЕНТЯБРЯ 2025 03:18 https://www.championat.com/football/news-6146670-krasnodar-obratilsya-k-bolelschikam-posle-skandalnogo-matcha-s-cska-v-rpl.html «Краснодар» обратился к болельщикам после скандального матча с ЦСКА в РПЛ\n",
      "1 СЕНТЯБРЯ 2025 03:01 https://www.championat.com/tennis/news-6146666-novak-dzhokovich-yan-lennard-shtruff-serb-uverenno-pobedil-v-pervom-sete.html Новак Джокович — Ян-Леннард Штруфф: серб уверенно победил в первом сете\n",
      "1 СЕНТЯБРЯ 2025 03:00 https://www.championat.com/football/news-6146658-u-nego-ochen-merzopakostnaya-zhena-eks-zhena-mamaeva-ob-otnosheniyah-s-futbolistom.html «У него очень мерзопакостная жена». Экс-жена Мамаева — об отношениях с футболистом\n",
      "1 СЕНТЯБРЯ 2025 02:59 https://www.championat.com/tennis/news-6146668-tomash-mahach-tejlor-fric-rezultat-matcha-1-sentyabrya-2025-schet-0-3-4-j-krug-us-open.html Фриц вышел в четвертьфинал US Open, где может сыграть с Джоковичем\n",
      "1 СЕНТЯБРЯ 2025 02:40 https://www.championat.com/football/news-6146662-liverpul-soglasoval-perehod-isaka-eto-stanet-rekordnym-transferom-v-apl-romano.html «Ливерпуль» согласовал переход Исака. Это станет рекордным трансфером в АПЛ — Романо\n",
      "1 СЕНТЯБРЯ 2025 02:40 https://www.championat.com/football/news-6146664-menya-eto-bespokoit-arteta-prokommentiroval-travmu-saliba-v-igre-s-liverpulem.html «Меня это беспокоит». Артета прокомментировал травму Салиба в игре с «Ливерпулем»\n",
      "1 СЕНТЯБРЯ 2025 02:30 https://www.championat.com/football/news-6146660-trener-arsenal-arteta-obyasnil-porazhenie-ot-liverpulya-v-matche-apl.html Тренер «Арсенал» Артета объяснил поражение от «Ливерпуля» в матче АПЛ\n",
      "1 СЕНТЯБРЯ 2025 02:21 https://www.championat.com/football/news-6146656-zabarnyj-vpervye-vyskazalsya-o-vzaimootnosheniyah-s-safonovym-v-pszh.html Забарный впервые высказался о взаимоотношениях с Сафоновым в «ПСЖ»\n",
      "1 СЕНТЯБРЯ 2025 02:10 https://www.championat.com/football/news-6146652-rezultat-ne-mozhet-ustraivat-krugovoj-o-nichej-cska-s-krasnodarom-v-rpl.html «Результат не может устраивать». Круговой — о ничьей ЦСКА с «Краснодаром» в РПЛ\n",
      "1 СЕНТЯБРЯ 2025 02:08 https://www.championat.com/basketball/news-6146650-kanada-ssha-rezultat-matcha-1-sentyabrya-2025-schyot-80-95-match-za-trete-mesto-kubka-ameriki-2025.html Сборная США обыграла Канаду в матче за третье место Кубка Америки по баскетболу\n",
      "1 СЕНТЯБРЯ 2025 02:07 https://www.championat.com/football/news-6146646-los-andzheles-gelaksi-orlando-siti-rezultat-matcha-1-sentyabrya-2025-schyot-2-1-kubok-lig-match-za-3-e-mesto-marko-rojs.html Гол Ройса помог «Лос-Анджелес Гэлакси» одолеть «Орландо» и завоевать бронзу Кубка лиг\n",
      "1 СЕНТЯБРЯ 2025 01:49 https://www.championat.com/football/news-6146642-chempionat-ispanii-2025-2026-po-futbolu-rezultaty-matchej-3-go-tura-i-turnirnaya-tablica-real-barselona-atletiko-sensacii.html Чемпионат Испании — 2025/2026 по футболу: результаты матчей 3-го тура и турнирная таблица\n",
      "1 СЕНТЯБРЯ 2025 01:42 https://www.championat.com/tennis/news-6146640-blinkova-frenh-osorio-serrano-yue-rezultat-matcha-1-sentyabrya-2025-schyot-0-2-2-j-krug-us-open-2025-pary.html Блинкова и Френх проиграли во втором круге US Open в парном разряде\n",
      "1 СЕНТЯБРЯ 2025 01:29 https://www.championat.com/football/news-6146636-mozhno-zamenit-sudyu-radimov-o-vtorom-tajme-matcha-cska-s-krasnodarom.html Радимов объяснил, в какой момент судья матча ЦСКА с «Краснодаром» потерял нити игры\n",
      "1 СЕНТЯБРЯ 2025 01:20 https://www.championat.com/football/news-6146634-nash-futbol-prevraschaetsya-v-fars-radimov-posle-skandalnogo-matcha-cska-krasnodar.html «Наш футбол превращается в фарс». Радимов – после скандального матча ЦСКА — «Краснодар»\n",
      "1 СЕНТЯБРЯ 2025 00:55 https://www.championat.com/football/news-6146620-apl-opublikovala-foto-arshavina-u-enfilda-v-den-matcha-liverpul-arsenal.html АПЛ опубликовала фото Аршавина у «Энфилда» в день матча «Ливерпуль» — «Арсенал»\n",
      "1 СЕНТЯБРЯ 2025 00:53 https://www.championat.com/tennis/news-6146544-barbora-krejchikova-tejlor-taunsend-rezultat-matcha-31-avgusta-schyot-2-0-4-j-krug-us-open.html Крейчикова отыграла восемь матчболов у Таунсенд и вышла в 1/4 финала US Open\n",
      "1 СЕНТЯБРЯ 2025 00:50 https://www.championat.com/football/news-6146618-daniil-fomin-nadeyus-pereryv-na-igry-sbornyh-pojdyot-dinamo-na-polzu.html Даниил Фомин: надеюсь, перерыв на игры сборных пойдёт «Динамо» на пользу\n",
      "1 СЕНТЯБРЯ 2025 00:49 https://www.championat.com/tennis/news-6146610-alkaras-o-neobychnyh-udarah-esli-poyavlyaetsya-vozmozhnost-to-ya-probuyu-lyudyam-nravitsya.html Алькарас — о необычных ударах: если появляется возможность, то пробую. Людям нравится\n",
      "1 СЕНТЯБРЯ 2025 00:47 https://www.championat.com/auto/news-6146626-hadzhar-menya-pozdravil-alen-prost.html Хаджар: меня поздравил Ален Прост\n",
      "1 СЕНТЯБРЯ 2025 00:43 https://www.championat.com/auto/news-6146624-v-ferrari-proveryat-bolid-posle-avarii-hemiltona-v-niderlandah.html В «Феррари» проверят болид после аварии Хэмилтона в Нидерландах\n",
      "1 СЕНТЯБРЯ 2025 00:33 https://www.championat.com/football/news-6146596-rajo-valekano-barselona-rezultat-matcha-31-avgusta-2025-schet-1-1-3-j-tur-ligi-1-2025-2026.html «Райо Вальекано» и «Барселона» не выявили победителя в матче 3-го тура Ла Лиги\n",
      "1 СЕНТЯБРЯ 2025 00:33 https://www.championat.com/football/news-6146614-v-kakie-to-momenty-nedoumenie-bylo-karpin-o-porazhenii-ot-mahachkalinskogo-dinamo.html «В какие-то моменты недоумение было». Карпин — о поражении от махачкалинского «Динамо»\n",
      "1 СЕНТЯБРЯ 2025 00:30 https://www.championat.com/basketball/news-6146612-luchshij-assistent-evrobasketa-2025-na-31-avgusta-donchich-vozglavil-tablicu.html Лучший ассистент Евробаскета-2025 на 31 августа: Дончич возглавил таблицу\n",
      "1 СЕНТЯБРЯ 2025 00:27 https://www.championat.com/tennis/news-6146520-pered-turnirom-ya-chuvstvovala-sebya-uzhasno-pegula-posle-vyhoda-v-1-4-finala-us-open.html «Перед турниром я чувствовала себя ужасно». Пегула — после выхода в 1/4 финала US Open\n",
      "1 СЕНТЯБРЯ 2025 00:25 https://www.championat.com/football/news-6146598-rasschityvayu-nakonec-to-poigrat-v-futbol-safonov-o-vyzove-v-sbornuyu-rossii.html «Рассчитываю наконец-то поиграть в футбол». Сафонов — о вызове в сборную России\n",
      "1 СЕНТЯБРЯ 2025 00:25 https://www.championat.com/football/news-6146584-nottingem-forest-obyavil-o-perehode-vratarya-botafogo.html «Ноттингем Форест» объявил о переходе вратаря из «Ботафого»\n",
      "1 СЕНТЯБРЯ 2025 00:08 https://www.championat.com/tennis/news-6146588-rybakina-vondroushova-onlajn-translyaciya-4-go-kruga-us-open-nachnyotsya-ne-ranee-4-00-msk.html Рыбакина — Вондроушова: онлайн-трансляция 4-го круга US Open начнётся не ранее 4:00 мск\n",
      "1 СЕНТЯБРЯ 2025 00:08 https://www.championat.com/basketball/news-6146592-luchshij-bombardir-evrobasketa-2025-na-31-avgusta-donchich-nabral-99-ochkov.html Лучший бомбардир Евробаскета-2025 на 31 августа: Дончич набрал 99 очков\n",
      "1 СЕНТЯБРЯ 2025 00:06 https://www.championat.com/football/news-6146578-chempionat-germanii-po-futbolu-2025-2026-rezultaty-matchej-2-go-tura-turnirnaya-tablica.html Чемпионат Германии — 2025/2026 по футболу: результаты матчей 2-го тура и турнирная таблица\n",
      "1 СЕНТЯБРЯ 2025 00:02 https://www.championat.com/football/news-6146574-safonov-nedovolen-igrovym-vremenem-v-pszh-poslednij-match-byl-bolee-tryoh-mesyacev-nazad.html Сафонов недоволен игровым временем в «ПСЖ». Последний матч был более трёх месяцев назад\n"
     ]
    }
   ],
   "source": [
    "all_news_links = []\n",
    "\n",
    "for post in posts:\n",
    "    time = post.find_element(By.CLASS_NAME, \"news-item__time\").text\n",
    "    date_time = f\"{date} {time}\"\n",
    "    link = post.find_element(By.CLASS_NAME, \"news-item__content\").find_element(By.TAG_NAME, \"a\").get_attribute(\"href\")\n",
    "    title = post.find_element(By.CLASS_NAME, \"news-item__content\").find_element(By.TAG_NAME, \"a\").text\n",
    "    \n",
    "    all_news_links.append(link)\n",
    "    print(date_time, link, title)\n",
    "    \n",
    "    \n",
    "    "
   ]
  },
  {
   "cell_type": "code",
   "execution_count": 10,
   "id": "7a34882b",
   "metadata": {},
   "outputs": [
    {
     "name": "stdout",
     "output_type": "stream",
     "text": [
      "['https://www.championat.com/football/news-6146714-sietl-saunders-inter-majami-rezultat-matcha-1-sentyabrya-2025-schyot-3-0-kubok-lig-final-lionel-messi-suares-alba-buskets.html', 'https://www.championat.com/basketball/news-6146712-argentina-braziliya-rezultat-matcha-1-sentyabrya-2025-schyot-47-55-final-kubka-ameriki-2025.html', 'https://www.championat.com/football/news-6146698-ne-opravdyvayu-ego-no-eto-ne-kartochka-radimov-ob-udalenii-kordoby-v-igre-s-cska.html', 'https://www.championat.com/football/news-6146706-nedovolen-svoej-komandoj-flik-ob-igre-barselony-v-matche-s-rajo-valekano.html', 'https://www.championat.com/football/news-6146710-dzhiku-otklonil-predlozhenie-spartaka-iz-za-nezhelaniya-ego-zheny-ehat-v-rossiyu-istochnik.html', 'https://www.championat.com/tennis/news-6146704-arina-sobolenko-ostanetsya-pervoj-raketkoj-mira-po-itogam-us-open.html', 'https://www.championat.com/tennis/news-6146700-dzhokovich-pervyj-tennisist-v-istorii-vyshedshij-v-1-4-finala-na-vseh-tbsh-v-9-sezonah.html', 'https://www.championat.com/tennis/news-6146702-novak-dzhokovich-ustanovil-istoricheskoe-dostizhenie-na-tbsh.html', 'https://www.championat.com/tennis/news-6146696-arina-sobolenko-vyshla-v-1-4-finala-us-open-gde-mozhet-vstretitsya-s-rybakinoj.html', 'https://www.championat.com/football/news-6146694-chempionat-francii-2025-2026-po-futbolu-rezultaty-matchej-3-go-tura-i-turnirnaya-tablica.html', 'https://www.championat.com/tennis/news-6146688-novak-dzhokovich-yan-lennard-shtruff-rezultat-matcha-1-sentyabrya-2025-goda-schyot-3-0-us-open.html', 'https://www.championat.com/football/news-6146686-vy-tak-dazhe-za-trojku-ne-budete-borotsya-radimov-nazval-glavnuyu-problemu-lokomotiva.html', 'https://www.championat.com/football/news-6146682-etot-pazl-ne-skladyvaetsya-radimov-nazval-odnu-iz-osnovnyh-problem-v-rpl.html', 'https://www.championat.com/basketball/news-6146684-eto-neizbezhno-klej-tompson-raskryl-chto-proishodilo-v-golden-stejt-za-kulisami.html', 'https://www.championat.com/tennis/news-6146680-arina-sobolenko-kristina-buksha-beloruska-razgromila-ispanku-v-pervom-sete.html', 'https://www.championat.com/football/news-6146678-chempionat-italii-2025-2026-po-futbolu-rezultaty-matchej-2-go-tura-i-turnirnaya-tablica.html', 'https://www.championat.com/tennis/news-6146676-novak-dzhokovich-yan-lennard-shtruff-serb-udvoil-preimuschestvo-v-matche.html', 'https://www.championat.com/basketball/news-6146674-majkl-porter-nazval-igroka-kotoryj-prevoshodit-ego-v-umenii-brosat.html', 'https://www.championat.com/football/news-6146672-yamal-samyj-molodoj-igrok-xxi-veka-v-la-lige-zabivshij-penalti.html', 'https://www.championat.com/football/news-6146670-krasnodar-obratilsya-k-bolelschikam-posle-skandalnogo-matcha-s-cska-v-rpl.html', 'https://www.championat.com/tennis/news-6146666-novak-dzhokovich-yan-lennard-shtruff-serb-uverenno-pobedil-v-pervom-sete.html', 'https://www.championat.com/football/news-6146658-u-nego-ochen-merzopakostnaya-zhena-eks-zhena-mamaeva-ob-otnosheniyah-s-futbolistom.html', 'https://www.championat.com/tennis/news-6146668-tomash-mahach-tejlor-fric-rezultat-matcha-1-sentyabrya-2025-schet-0-3-4-j-krug-us-open.html', 'https://www.championat.com/football/news-6146662-liverpul-soglasoval-perehod-isaka-eto-stanet-rekordnym-transferom-v-apl-romano.html', 'https://www.championat.com/football/news-6146664-menya-eto-bespokoit-arteta-prokommentiroval-travmu-saliba-v-igre-s-liverpulem.html', 'https://www.championat.com/football/news-6146660-trener-arsenal-arteta-obyasnil-porazhenie-ot-liverpulya-v-matche-apl.html', 'https://www.championat.com/football/news-6146656-zabarnyj-vpervye-vyskazalsya-o-vzaimootnosheniyah-s-safonovym-v-pszh.html', 'https://www.championat.com/football/news-6146652-rezultat-ne-mozhet-ustraivat-krugovoj-o-nichej-cska-s-krasnodarom-v-rpl.html', 'https://www.championat.com/basketball/news-6146650-kanada-ssha-rezultat-matcha-1-sentyabrya-2025-schyot-80-95-match-za-trete-mesto-kubka-ameriki-2025.html', 'https://www.championat.com/football/news-6146646-los-andzheles-gelaksi-orlando-siti-rezultat-matcha-1-sentyabrya-2025-schyot-2-1-kubok-lig-match-za-3-e-mesto-marko-rojs.html', 'https://www.championat.com/football/news-6146642-chempionat-ispanii-2025-2026-po-futbolu-rezultaty-matchej-3-go-tura-i-turnirnaya-tablica-real-barselona-atletiko-sensacii.html', 'https://www.championat.com/tennis/news-6146640-blinkova-frenh-osorio-serrano-yue-rezultat-matcha-1-sentyabrya-2025-schyot-0-2-2-j-krug-us-open-2025-pary.html', 'https://www.championat.com/football/news-6146636-mozhno-zamenit-sudyu-radimov-o-vtorom-tajme-matcha-cska-s-krasnodarom.html', 'https://www.championat.com/football/news-6146634-nash-futbol-prevraschaetsya-v-fars-radimov-posle-skandalnogo-matcha-cska-krasnodar.html', 'https://www.championat.com/football/news-6146620-apl-opublikovala-foto-arshavina-u-enfilda-v-den-matcha-liverpul-arsenal.html', 'https://www.championat.com/tennis/news-6146544-barbora-krejchikova-tejlor-taunsend-rezultat-matcha-31-avgusta-schyot-2-0-4-j-krug-us-open.html', 'https://www.championat.com/football/news-6146618-daniil-fomin-nadeyus-pereryv-na-igry-sbornyh-pojdyot-dinamo-na-polzu.html', 'https://www.championat.com/tennis/news-6146610-alkaras-o-neobychnyh-udarah-esli-poyavlyaetsya-vozmozhnost-to-ya-probuyu-lyudyam-nravitsya.html', 'https://www.championat.com/auto/news-6146626-hadzhar-menya-pozdravil-alen-prost.html', 'https://www.championat.com/auto/news-6146624-v-ferrari-proveryat-bolid-posle-avarii-hemiltona-v-niderlandah.html', 'https://www.championat.com/football/news-6146596-rajo-valekano-barselona-rezultat-matcha-31-avgusta-2025-schet-1-1-3-j-tur-ligi-1-2025-2026.html', 'https://www.championat.com/football/news-6146614-v-kakie-to-momenty-nedoumenie-bylo-karpin-o-porazhenii-ot-mahachkalinskogo-dinamo.html', 'https://www.championat.com/basketball/news-6146612-luchshij-assistent-evrobasketa-2025-na-31-avgusta-donchich-vozglavil-tablicu.html', 'https://www.championat.com/tennis/news-6146520-pered-turnirom-ya-chuvstvovala-sebya-uzhasno-pegula-posle-vyhoda-v-1-4-finala-us-open.html', 'https://www.championat.com/football/news-6146598-rasschityvayu-nakonec-to-poigrat-v-futbol-safonov-o-vyzove-v-sbornuyu-rossii.html', 'https://www.championat.com/football/news-6146584-nottingem-forest-obyavil-o-perehode-vratarya-botafogo.html', 'https://www.championat.com/tennis/news-6146588-rybakina-vondroushova-onlajn-translyaciya-4-go-kruga-us-open-nachnyotsya-ne-ranee-4-00-msk.html', 'https://www.championat.com/basketball/news-6146592-luchshij-bombardir-evrobasketa-2025-na-31-avgusta-donchich-nabral-99-ochkov.html', 'https://www.championat.com/football/news-6146578-chempionat-germanii-po-futbolu-2025-2026-rezultaty-matchej-2-go-tura-turnirnaya-tablica.html', 'https://www.championat.com/football/news-6146574-safonov-nedovolen-igrovym-vremenem-v-pszh-poslednij-match-byl-bolee-tryoh-mesyacev-nazad.html']\n"
     ]
    }
   ],
   "source": [
    "print(all_news_links)"
   ]
  },
  {
   "cell_type": "code",
   "execution_count": null,
   "id": "ae4a8b82",
   "metadata": {},
   "outputs": [
    {
     "ename": "AttributeError",
     "evalue": "'list' object has no attribute 'text'",
     "output_type": "error",
     "traceback": [
      "\u001b[31m---------------------------------------------------------------------------\u001b[39m",
      "\u001b[31mAttributeError\u001b[39m                            Traceback (most recent call last)",
      "\u001b[36mCell\u001b[39m\u001b[36m \u001b[39m\u001b[32mIn[16]\u001b[39m\u001b[32m, line 3\u001b[39m\n\u001b[32m      1\u001b[39m \u001b[38;5;28;01mfor\u001b[39;00m news_link \u001b[38;5;129;01min\u001b[39;00m all_news_links[\u001b[32m0\u001b[39m:\u001b[32m1\u001b[39m]:\n\u001b[32m      2\u001b[39m     driver.get(news_link)\n\u001b[32m----> \u001b[39m\u001b[32m3\u001b[39m     text = \u001b[43mdriver\u001b[49m\u001b[43m.\u001b[49m\u001b[43mfind_elements\u001b[49m\u001b[43m(\u001b[49m\u001b[43mBy\u001b[49m\u001b[43m.\u001b[49m\u001b[43mTAG_NAME\u001b[49m\u001b[43m,\u001b[49m\u001b[43m \u001b[49m\u001b[33;43m\"\u001b[39;49m\u001b[33;43mp\u001b[39;49m\u001b[33;43m\"\u001b[39;49m\u001b[43m)\u001b[49m\u001b[43m.\u001b[49m\u001b[43mtext\u001b[49m\n\u001b[32m      4\u001b[39m     \u001b[38;5;28mprint\u001b[39m(text)\n",
      "\u001b[31mAttributeError\u001b[39m: 'list' object has no attribute 'text'"
     ]
    }
   ],
   "source": [
    "for news_link in all_news_links[0:0]:\n",
    "    driver.get(news_link)\n",
    "    text = driver.find_elements(By.TAG_NAME, \"\").text\n",
    "    print(text)"
   ]
  },
  {
   "cell_type": "code",
   "execution_count": null,
   "id": "647780cb",
   "metadata": {},
   "outputs": [],
   "source": []
  },
  {
   "cell_type": "code",
   "execution_count": null,
   "id": "3f29584d",
   "metadata": {},
   "outputs": [],
   "source": [
    "driver.quit()"
   ]
  }
 ],
 "metadata": {
  "kernelspec": {
   "display_name": ".venv",
   "language": "python",
   "name": "python3"
  },
  "language_info": {
   "codemirror_mode": {
    "name": "ipython",
    "version": 3
   },
   "file_extension": ".py",
   "mimetype": "text/x-python",
   "name": "python",
   "nbconvert_exporter": "python",
   "pygments_lexer": "ipython3",
   "version": "3.13.3"
  }
 },
 "nbformat": 4,
 "nbformat_minor": 5
}
