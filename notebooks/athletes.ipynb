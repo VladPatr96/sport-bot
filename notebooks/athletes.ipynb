{
 "cells": [
  {
   "cell_type": "code",
   "execution_count": 1,
   "id": "00dc3e72",
   "metadata": {},
   "outputs": [],
   "source": [
    "from selenium import webdriver\n",
    "from selenium.webdriver.common.keys import Keys\n",
    "from selenium.webdriver.common.by import By\n",
    "from selenium.webdriver.chrome.service import Service\n",
    "from selenium.webdriver.support.ui import WebDriverWait\n",
    "from selenium.webdriver.support import expected_conditions as EC\n",
    "from selenium.common.exceptions import TimeoutException, NoSuchElementException\n",
    "import sqlite3\n",
    "import json\n",
    "import os\n",
    "import yaml\n",
    "import time\n",
    "from urllib.parse import urlparse, urljoin # Добавляем импорт urlparse"
   ]
  },
  {
   "cell_type": "code",
   "execution_count": 2,
   "id": "78abc6e6",
   "metadata": {},
   "outputs": [],
   "source": [
    "# Настройка опций Chrome для обхода SSL и скрытия Selenium\n",
    "chrome_options = webdriver.ChromeOptions()\n",
    "chrome_options.add_argument(\"--headless\")\n",
    "chrome_options.add_argument(\"--no-sandbox\")\n",
    "chrome_options.add_argument(\"--disable-dev-shm-usage\")\n",
    "chrome_options.add_argument(f\"user-agent=Mozilla/5.0 (Windows NT 10.0; Win64; x64) AppleWebKit/537.36 (KHTML, like Gecko) Chrome/126.0.0.0 Safari/537.36\")\n",
    "chrome_options.add_argument(\"--ignore-certificate-errors\")\n",
    "chrome_options.add_argument(\"--allow-insecure-localhost\")\n",
    "chrome_options.add_argument(\"--disable-blink-features=AutomationControlled\")\n",
    "chrome_options.add_experimental_option(\"excludeSwitches\", [\"enable-automation\"])\n",
    "chrome_options.add_experimental_option('useAutomationExtension', False)"
   ]
  },
  {
   "cell_type": "code",
   "execution_count": 3,
   "id": "040f45b4",
   "metadata": {},
   "outputs": [],
   "source": [
    "driver = webdriver.Chrome()\n",
    "wait = WebDriverWait(driver, 30)"
   ]
  },
  {
   "cell_type": "code",
   "execution_count": null,
   "id": "7a4775ff",
   "metadata": {},
   "outputs": [],
   "source": [
    "conn = sqlite3.connect('database/prosport.db')\n",
    "conn.row_factory = sqlite3.Row\n",
    "cursor = conn.cursor()\n",
    "cursor.execute(\"SELECT id, tournaments_url, type FROM tournaments\")\n",
    "db_tournaments_data = cursor.fetchall()"
   ]
  },
  {
   "cell_type": "code",
   "execution_count": 5,
   "id": "e6c94cfb",
   "metadata": {},
   "outputs": [],
   "source": [
    "cursor.execute(\"SELECT id, name, url, tournament_id FROM teams\")\n",
    "db_teams_data = cursor.fetchall()"
   ]
  },
  {
   "cell_type": "code",
   "execution_count": 275,
   "id": "f861483c",
   "metadata": {},
   "outputs": [],
   "source": [
    "teams_url = 'https://www.championat.com/auto/_dakar/tournament/920/teams/2520/result/'"
   ]
  },
  {
   "cell_type": "code",
   "execution_count": 269,
   "id": "430cfd16",
   "metadata": {},
   "outputs": [],
   "source": [
    "tournaments_url = 'https://www.championat.com/auto/_rally/tournament/928/'"
   ]
  },
  {
   "cell_type": "code",
   "execution_count": 270,
   "id": "7cf7c8b9",
   "metadata": {},
   "outputs": [],
   "source": [
    "tournaments_url_other = tournaments_url.find('grid')"
   ]
  },
  {
   "cell_type": "code",
   "execution_count": 271,
   "id": "c8fcbbf1",
   "metadata": {},
   "outputs": [
    {
     "data": {
      "text/plain": [
       "-1"
      ]
     },
     "execution_count": 271,
     "metadata": {},
     "output_type": "execute_result"
    }
   ],
   "source": [
    "tournaments_url_other"
   ]
  },
  {
   "cell_type": "code",
   "execution_count": 272,
   "id": "789b89c8",
   "metadata": {},
   "outputs": [],
   "source": [
    "if tournaments_url_other >= 0:\n",
    "    tournaments_url_players = str(tournaments_url).replace('/grid/', '/players/')\n",
    "else:\n",
    "    if not tournaments_url.endswith('/'):\n",
    "        tournaments_url += '/'\n",
    "    tournaments_url_players = tournaments_url + 'players/'"
   ]
  },
  {
   "cell_type": "code",
   "execution_count": 273,
   "id": "ac060a1d",
   "metadata": {},
   "outputs": [
    {
     "data": {
      "text/plain": [
       "'https://www.championat.com/auto/_rally/tournament/928/players/'"
      ]
     },
     "execution_count": 273,
     "metadata": {},
     "output_type": "execute_result"
    }
   ],
   "source": [
    "tournaments_url_players"
   ]
  },
  {
   "cell_type": "code",
   "execution_count": 276,
   "id": "5a65b616",
   "metadata": {},
   "outputs": [],
   "source": [
    "teams_url_players = str(teams_url).replace('/result/', '/players/')"
   ]
  },
  {
   "cell_type": "code",
   "execution_count": 277,
   "id": "d6c47eac",
   "metadata": {},
   "outputs": [
    {
     "data": {
      "text/plain": [
       "'https://www.championat.com/auto/_dakar/tournament/920/teams/2520/players/'"
      ]
     },
     "execution_count": 277,
     "metadata": {},
     "output_type": "execute_result"
    }
   ],
   "source": [
    "teams_url_players"
   ]
  },
  {
   "cell_type": "code",
   "execution_count": 278,
   "id": "238b906c",
   "metadata": {},
   "outputs": [],
   "source": [
    "team_players = driver.get(teams_url_players)"
   ]
  },
  {
   "cell_type": "code",
   "execution_count": 274,
   "id": "c2e8a081",
   "metadata": {},
   "outputs": [],
   "source": [
    "individual_player = driver.get(tournaments_url_players)"
   ]
  },
  {
   "cell_type": "code",
   "execution_count": 279,
   "id": "4747bfef",
   "metadata": {},
   "outputs": [],
   "source": [
    "player_els = wait.until(EC.presence_of_all_elements_located((By.CSS_SELECTOR, \"table.table-responsive\")))"
   ]
  },
  {
   "cell_type": "code",
   "execution_count": 280,
   "id": "54768c10",
   "metadata": {},
   "outputs": [],
   "source": [
    "player_el = player_els[0]"
   ]
  },
  {
   "cell_type": "code",
   "execution_count": 281,
   "id": "42a6a3e9",
   "metadata": {},
   "outputs": [],
   "source": [
    "link_element = player_el.find_element(By.CSS_SELECTOR, \"a\")"
   ]
  },
  {
   "cell_type": "code",
   "execution_count": 283,
   "id": "8ec06760",
   "metadata": {},
   "outputs": [],
   "source": [
    "href = link_element.get_attribute(\"href\")"
   ]
  },
  {
   "cell_type": "code",
   "execution_count": 284,
   "id": "cc9cbdc0",
   "metadata": {},
   "outputs": [
    {
     "data": {
      "text/plain": [
       "'https://www.championat.com/auto/_dakar/tournament/920/players/27893/'"
      ]
     },
     "execution_count": 284,
     "metadata": {},
     "output_type": "execute_result"
    }
   ],
   "source": [
    "href"
   ]
  },
  {
   "cell_type": "code",
   "execution_count": 285,
   "id": "c248ee84",
   "metadata": {},
   "outputs": [],
   "source": [
    "player_info = driver.get(href)"
   ]
  },
  {
   "cell_type": "code",
   "execution_count": 250,
   "id": "623c8134",
   "metadata": {},
   "outputs": [],
   "source": [
    "player_link = wait.until(EC.presence_of_all_elements_located((By.CSS_SELECTOR, \"div.entity-header__title-link\")))"
   ]
  },
  {
   "cell_type": "code",
   "execution_count": 251,
   "id": "394711e9",
   "metadata": {},
   "outputs": [],
   "source": [
    "player_el = player_link[0]\n",
    "link_element = player_el.find_element(By.CSS_SELECTOR, \"a\")"
   ]
  },
  {
   "cell_type": "code",
   "execution_count": 252,
   "id": "6ad38110",
   "metadata": {},
   "outputs": [],
   "source": [
    "link_tag = link_element.get_attribute(\"href\")"
   ]
  },
  {
   "cell_type": "code",
   "execution_count": 253,
   "id": "736ef9b6",
   "metadata": {},
   "outputs": [
    {
     "data": {
      "text/plain": [
       "'https://www.championat.com/tags/30777-denis-adamov/'"
      ]
     },
     "execution_count": 253,
     "metadata": {},
     "output_type": "execute_result"
    }
   ],
   "source": [
    "link_tag"
   ]
  },
  {
   "cell_type": "code",
   "execution_count": 286,
   "id": "756110e9",
   "metadata": {},
   "outputs": [],
   "source": [
    "player_names = wait.until(EC.presence_of_all_elements_located((By.CSS_SELECTOR, \"div.entity-header__title-name\")))"
   ]
  },
  {
   "cell_type": "code",
   "execution_count": 287,
   "id": "e4cf8241",
   "metadata": {},
   "outputs": [],
   "source": [
    "player_name = player_names[0]\n",
    "name_element = player_name.text"
   ]
  },
  {
   "cell_type": "code",
   "execution_count": 288,
   "id": "1fbe780b",
   "metadata": {},
   "outputs": [
    {
     "data": {
      "text/plain": [
       "'Антуан Мео'"
      ]
     },
     "execution_count": 288,
     "metadata": {},
     "output_type": "execute_result"
    }
   ],
   "source": [
    "name_element"
   ]
  }
 ],
 "metadata": {
  "kernelspec": {
   "display_name": ".venv",
   "language": "python",
   "name": "python3"
  },
  "language_info": {
   "codemirror_mode": {
    "name": "ipython",
    "version": 3
   },
   "file_extension": ".py",
   "mimetype": "text/x-python",
   "name": "python",
   "nbconvert_exporter": "python",
   "pygments_lexer": "ipython3",
   "version": "3.13.3"
  }
 },
 "nbformat": 4,
 "nbformat_minor": 5
}
